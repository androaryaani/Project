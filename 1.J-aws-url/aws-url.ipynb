{
 "cells": [
  {
   "cell_type": "code",
   "execution_count": null,
   "id": "a9e0bb4e-65f4-45c6-8175-bb6ca9be1363",
   "metadata": {},
   "outputs": [
    {
     "name": "stderr",
     "output_type": "stream",
     "text": [
      "WARNING: This is a development server. Do not use it in a production deployment. Use a production WSGI server instead.\n",
      " * Running on http://localhost:5000\n",
      "Press CTRL+C to quit\n",
      "127.0.0.1 - - [13/Jul/2025 01:54:29] \"GET /os HTTP/1.1\" 200 -\n",
      "127.0.0.1 - - [13/Jul/2025 01:54:30] \"GET /favicon.ico HTTP/1.1\" 404 -\n",
      "127.0.0.1 - - [13/Jul/2025 01:59:01] \"GET /dlt HTTP/1.1\" 200 -\n"
     ]
    }
   ],
   "source": [
    "from flask import Flask\n",
    "import boto3\n",
    "\n",
    "app = Flask(__name__)\n",
    "\n",
    "# Initialize EC2 resource in Singapore region\n",
    "myec2 = boto3.resource(\"ec2\", region_name=\"ap-southeast-1\")\n",
    "\n",
    "# Store launched instance IDs\n",
    "launched_instance_ids = []\n",
    "\n",
    "@app.route(\"/os\")\n",
    "def osLaunch():\n",
    "    instances = myec2.create_instances(\n",
    "        InstanceType=\"t2.micro\",\n",
    "        ImageId=\"ami-0a3ece531caa5d49d\",\n",
    "        MinCount=1,\n",
    "        MaxCount=1\n",
    "    )\n",
    "\n",
    "    instance = instances[0]\n",
    "    instance.wait_until_running()\n",
    "    instance.load()  # refresh to get public IP\n",
    "\n",
    "    launched_instance_ids.append(instance.id)\n",
    "\n",
    "    return (\n",
    "        f\"✅ Instance Launched!\\n\"\n",
    "        f\"🆔 ID: {instance.id}\\n\"\n",
    "        f\"🌐 Public IP: {instance.public_ip_address}\\n\"\n",
    "        f\"🔁 State: {instance.state['Name']}\\n\"\n",
    "        f\"📍 Region: ap-southeast-1\"\n",
    "    )\n",
    "\n",
    "@app.route(\"/dlt\")\n",
    "def osDelete():\n",
    "    if not launched_instance_ids:\n",
    "        return \"❌ No instances launched to delete.\"\n",
    "\n",
    "    output = \"🗑 Terminating instances:\\n\\n\"\n",
    "\n",
    "    for instance_id in launched_instance_ids:\n",
    "        instance = myec2.Instance(instance_id)\n",
    "        instance.terminate()\n",
    "        instance.wait_until_terminated()\n",
    "        instance.load()\n",
    "        output += (\n",
    "            f\"✅ Terminated ID: {instance.id}\\n\"\n",
    "            f\"🔁 Final State: {instance.state['Name']}\\n\\n\"\n",
    "        )\n",
    "\n",
    "    launched_instance_ids.clear()\n",
    "    return output\n",
    "\n",
    "\n",
    "\n",
    "if __name__ == \"__main__\":\n",
    "    from werkzeug.serving import run_simple\n",
    "    run_simple(\"localhost\", 5000, app, use_debugger=True)"
   ]
  },
  {
   "cell_type": "code",
   "execution_count": null,
   "id": "42fae12e-ba70-429c-bf8b-3352a8a2ec17",
   "metadata": {},
   "outputs": [],
   "source": []
  }
 ],
 "metadata": {
  "kernelspec": {
   "display_name": "Python 3 (ipykernel)",
   "language": "python",
   "name": "python3"
  },
  "language_info": {
   "codemirror_mode": {
    "name": "ipython",
    "version": 3
   },
   "file_extension": ".py",
   "mimetype": "text/x-python",
   "name": "python",
   "nbconvert_exporter": "python",
   "pygments_lexer": "ipython3",
   "version": "3.12.7"
  }
 },
 "nbformat": 4,
 "nbformat_minor": 5
}
